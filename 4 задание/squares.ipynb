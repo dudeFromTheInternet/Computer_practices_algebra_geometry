{
 "cells": [
  {
   "cell_type": "markdown",
   "metadata": {
    "colab_type": "text",
    "id": "Qcnn2bIlcsNX"
   },
   "source": [
    "# Игра с клетками\n",
    "\n",
    "В этой задаче поиграем в игру на поле $m\\times n$, клетки которого могут быть в двух состояниях: «горящие» или «потухшие». При нажатии клетка и её четыре соседа по диагонали меняют состояние. Цель игры — потушить все клетки.\n",
    "\n",
    "![Игра с квадратами](https://imgur.com/Qs9hGN1.png)\n",
    "\n",
    "Игра обманчиво проста, но победить в ней не так-то легко. Попробуйте [поиграть.](https://htmlpreview.github.io/?https://github.com/dkosolobov/squaregame/blob/main/squaregame.html)\n",
    "\n",
    "В этой задаче вам надо разработать программу, которая с помощью систем уравнений в поле $Z_2$ по заданному игровому полю определяет, можно ли победить и как именно."
   ]
  },
  {
   "cell_type": "markdown",
   "metadata": {
    "colab_type": "text",
    "id": "bSryBbUmZEcN"
   },
   "source": [
    "**1. Система $4 \\times 4$.** Допишите функцию, которая получает на вход $4\\times 4$ матрицу $A$ над полем $\\mathbb{Z}_2$ и столбец $b$ размера 4 (т.е. $A \\in \\mathbb{Z}_2^{4\\times 4}$ и $b \\in \\mathbb{Z}_2^4$) и возврашает `True`, если система $Ax=b$ имеет решение в поле $\\mathbb{Z}_2$, и `False` в противном случае.  Можно пропустить это задание, если вы выполните следующее. Техническое напоминание: код обмена строк матрицы выглядит как `A[[i,j]]=A[[j,i]]`."
   ]
  },
  {
   "cell_type": "code",
   "execution_count": 61,
   "metadata": {
    "cellView": "both",
    "colab": {},
    "colab_type": "code",
    "id": "2FX9XAVucrLo"
   },
   "outputs": [],
   "source": [
    "def is_4x4_system_solvable(A, b):\n",
    "    '''Разрешимость системы Ax = b над полем {0,1}, где A — матрица 4х4'''\n",
    "    A = A.copy() \n",
    "    b = b.copy()\n",
    "    return is_nxn_system_solvable(A, b)"
   ]
  },
  {
   "cell_type": "markdown",
   "metadata": {
    "colab_type": "text",
    "id": "zx52EwmO5bEl"
   },
   "source": [
    "**2. Система $n \\times n$.** Допишите функцию, которая получает на вход $n\\times n$ матрицу $A$ над полем $\\mathbb{Z}_2$ и столбец $b$ размера $n$ (т.е. $A \\in \\mathbb{Z}_2^{n\\times n}$ и $b \\in \\mathbb{Z}_2^n$) и возврашает `True`, если система $Ax=b$ имеет решение в поле $\\mathbb{Z}_2$, и `False` в противном случае."
   ]
  },
  {
   "cell_type": "code",
   "execution_count": 62,
   "metadata": {
    "colab": {},
    "colab_type": "code",
    "id": "3BHdzkU3f4No"
   },
   "outputs": [],
   "source": [
    "def is_nxn_system_solvable(A, b):\n",
    "    '''Разрешимость системы Ax = b над полем {0,1}, где A — матрица nхn'''\n",
    "    A = A.copy()\n",
    "    B = np.column_stack((A, b))\n",
    "\n",
    "    if get_rank(A) == get_rank(B):   \n",
    "        return True                                \n",
    "    return False              \n",
    "\n",
    "def gauss(X, for_solution):\n",
    "    matrix = X.copy()\n",
    "    rows = matrix.shape[0]                       \n",
    "    \n",
    "    for i in range(0, rows):\n",
    "        if matrix[i, i] == 0:\n",
    "            row_with_no_zero = get_row_with_no_zero(matrix, i)\n",
    "            if(row_with_no_zero == -1):\n",
    "                continue\n",
    "            matrix[[i, row_with_no_zero]] = matrix[[row_with_no_zero, i]]\n",
    "\n",
    "        for j in range(i+1,rows):\n",
    "            if(matrix[j, i] == 0):\n",
    "                continue\n",
    "            row_addition(matrix, j, i)\n",
    "\n",
    "    for i in range(rows-1,-1,-1):\n",
    "        for j in range(i-1,-1,-1):\n",
    "            if(matrix[j,i] == 0):\n",
    "                continue\n",
    "            row_addition(matrix, j, i)\n",
    "            \n",
    "    if for_solution:\n",
    "        return matrix[:, matrix.shape[1] - 1]\n",
    "    else:\n",
    "        return matrix\n",
    "\n",
    "def get_row_with_no_zero(X, column):\n",
    "    columns = len(X)\n",
    "    for i in range(column+1, columns):\n",
    "        if(X[i, column] != 0):\n",
    "            return i\n",
    "    return -1\n",
    "\n",
    "'''Прибавляет строку j к строке i в кольце вычета 2'''\n",
    "def row_addition(X, i, j):\n",
    "    for k in range(0, X.shape[1]):\n",
    "        X[i, k] = (X[i, k] + X[j, k]) % 2\n",
    "\n",
    "def get_rank(X):\n",
    "    zero_rows = 0\n",
    "    matrix = gauss(X, False)\n",
    "    rows = matrix.shape[0]\n",
    "    \n",
    "    for row in range(rows):\n",
    "        if sum(matrix[row]) == 0:\n",
    "            zero_rows += 1\n",
    "            \n",
    "    return rows - zero_rows"
   ]
  },
  {
   "cell_type": "markdown",
   "metadata": {
    "colab_type": "text",
    "id": "5bUt11cBnrO7"
   },
   "source": [
    "**3. Разрешимость игры.** Допишите функцию, которая возвращает `True`, если в заданной игре можно победить, и `False` в противном случае. Игровое поле представлено матрицей нулей и единиц размера $m \\times n$, в которой ноль означает потухшую клетку, единица — горящую. Подсказка: с помощью `is_4x4_system_solvable` можно разрешать игровые поля размеров $2\\times 2$, $4 \\times 1$ и $1 \\times 4$."
   ]
  },
  {
   "cell_type": "code",
   "execution_count": 63,
   "metadata": {
    "colab": {},
    "colab_type": "code",
    "id": "MzS5_b1To_lf"
   },
   "outputs": [],
   "source": [
    "def game_solvable(GameField):\n",
    "    '''Разрешимость игрового поля GameField[0:m,0:n] из нулей и единиц'''\n",
    "    GameField = GameField.copy() # эту копию GameField можно модифицировать\n",
    "    \n",
    "    A = get_dependence_matrix(GameField)\n",
    "    b = GameField.flatten()\n",
    "            \n",
    "    return is_nxn_system_solvable(A, b)\n",
    "\n",
    "def cell_exist(x, y, m, n):\n",
    "    return 0 <= x < m and 0 <= y < n\n",
    "\n",
    "def dependence_matrix(GameField):                      \n",
    "    [rows, columns] = GameField.shape                               \n",
    "                                                           \n",
    "    X = np.zeros([rows * columns, rows * columns])                          \n",
    "    \n",
    "    for row in range(rows):\n",
    "        for column in range(columns):\n",
    "            crd = column + columns * row                       \n",
    "            X[crd][crd] = 1                            \n",
    "            \n",
    "            if cell_exist(row - 1, column - 1, rows, columns):  \n",
    "                X[crd - columns - 1][crd] = 1                \n",
    "                \n",
    "            if cell_exist(row - 1, column + 1, rows, columns):\n",
    "                X[crd - columns + 1][crd] = 1\n",
    "                \n",
    "            if cell_exist(row + 1, column - 1, rows, columns):\n",
    "                X[crd + columns - 1][crd] = 1\n",
    "                \n",
    "            if cell_exist(row + 1, column + 1, rows, columns):\n",
    "                X[crd + columns + 1][crd] = 1\n",
    "                \n",
    "    return X"
   ]
  },
  {
   "cell_type": "markdown",
   "metadata": {
    "colab_type": "text",
    "id": "l6XOEfn-Fqbv"
   },
   "source": [
    "**4. Решение игры.** Если в игре можно победить, то хочется знать как. Допишите функцию, возвращающую список клеток, которые надо нажать для победы, и возвращающую `None`, если победить нельзя. Клетки задаются парами чисел `[x,y]`; например, список `[[0,0], [0,2], [1,1]]`  означает, что надо нажать на левую верхнюю клетку, затем третью клетку в верхнем ряду, а затем вторую клетку во втором ряду."
   ]
  },
  {
   "cell_type": "code",
   "execution_count": 64,
   "metadata": {
    "colab": {},
    "colab_type": "code",
    "id": "TPEEh-qdpex_"
   },
   "outputs": [],
   "source": [
    "def solve_game(GameField):\n",
    "    '''Найти решение игрового поля GameField[0:m,0:n] из нулей и единиц'''\n",
    "    GameField = GameField.copy()\n",
    "    [m, n] = GameField.shape\n",
    "    \n",
    "    if not game_solvable(GameField):                  \n",
    "        return None\n",
    "    \n",
    "    A = dependence_matrix(GameField)\n",
    "    b = GameField.flatten()\n",
    "            \n",
    "    solution_matrix = gauss(np.column_stack((A, b)), True)  \n",
    "    cells = []                                       \n",
    "    \n",
    "    for i in range(m * n):\n",
    "        if solution_matrix[i] == 1:\n",
    "            cells.append([i // n, i % n])\n",
    "    \n",
    "    return cells                      "
   ]
  },
  {
   "cell_type": "markdown",
   "metadata": {
    "colab_type": "text",
    "id": "_zRdyR7lv6ZH"
   },
   "source": [
    "## Тестирование\n",
    "\n",
    "Осталось проверить, проходят ли ваши решения первоначальное тестирование. Выполните весь код (Cell -> Run All или Runtime -> Run All или другим способом, работающим в вашей среде) и посмотрите вердикт внизу страницы. В тестирующем коде разбираться не нужно!\n"
   ]
  },
  {
   "cell_type": "code",
   "execution_count": 65,
   "metadata": {
    "cellView": "code",
    "colab": {},
    "colab_type": "code",
    "id": "WBhW0EXcwVKd"
   },
   "outputs": [],
   "source": [
    "import numpy as np\n",
    "from itertools import chain, product\n",
    "\n",
    "solvable_4x4 = ({'A': [[0,0,0,1],[0,1,0,1],[0,1,1,0],[1,0,1,0]], 'b':[0,1,0,1]},\n",
    "    {'A':[[0,1,0,1],[1,0,0,1],[1,1,1,1],[0,0,1,1]],'b': [1,1,0,0]})\n",
    "unsolvable_4x4 = ({'A':[[0,1,0,1],[1,0,0,1],[1,1,1,1],[0,0,1,1]],'b':[1,1,0,1]},\n",
    "    {'A':[[1,0,1,0],[0,1,1,0],[1,1,0,0],[0,0,0,0]],'b':[1,1,1,1]},\n",
    "    {'A':[[1,0,1,1],[0,0,1,0],[0,0,0,0],[1,0,0,1]],'b': [0,1,0,0]})\n",
    "solvable_nxn = solvable_4x4 + ({'A':[[1]],'b':[1]},{'A':[[1]],'b':[0]},\n",
    "    {'A':[[0]],'b':[0]},{'A':[[0,0,0],[0,1,1],[1,1,1]],'b':[0,1,1]},\n",
    "    {'A':[[0,0,0,0,0],[0,0,0,0,1],[0,0,1,1,0],[0,0,0,1,0],[0,0,1,0,1]],'b':[0,0,1,1,0]},\n",
    "    {'A':[[1,1,0,0,1],[0,1,0,0,0],[0,1,0,1,0],[0,0,0,1,0],[1,1,0,1,1]],'b':[0,0,1,1,1]})\n",
    "unsolvable_nxn = unsolvable_4x4 + ({'A':[[0]], 'b':[1]}, \n",
    "    {'A':[[0,0,0],[0,1,1],[1,1,1]],'b':[1,1,1]},\n",
    "    {'A':[[0,0,0,0,0],[0,0,0,0,1],[0,0,1,1,0],[0,0,0,1,0],[0,0,1,0,1]],'b':[0,0,1,1,1]})\n",
    "solvable_games = ([[0]],[[1]],[[0,0]],[[1,1]],[[1],[1]], [[1,0],[0,1]], [[0],[1],[0],[1]],\n",
    "    [[0,1],[0,1],[1,0]],[[1,1,1,1,0],[1,1,0,1,1],[1,0,1,0,0]], [[1, 1, 1], [0, 1, 1], [1, 1, 1]],\n",
    "    [[0,1,0,1],[0,1,0,1],[1,1,1,1],[1,1,1,1],[0,1,0,1]], \n",
    "    [[0,0,0,0,1,1], [1,1,1,1,1,1], [1,1,1,1,0,0], [0,0,1,1,1,1], [1,1,1,1,1,1], [1,1,0,0,0,0]])\n",
    "unsolvable_games = ([[0,1],[0,1]], [[1,1],[0,0]], [[1,0],[1,0]], [[0,1],[1,1]], [[0,1,1,1,1],[1,1,1,1,1]], \n",
    "    [[0,1,0,1],[0,1,0,1],[0,1,0,1],[0,1,0,1]],\n",
    "    [[0,0,1,1,0],[0,1,1,1,1],[1,1,1,1,1],[1,0,0,1,1],[0,0,1,1,1]],\n",
    "    [[0,1,1,1,1],[1,1,1,1,1],[1,1,1,1,1],[1,1,1,1,1],[1,1,1,1,1]] )\n",
    "\n",
    "def seq_solves_game(seq, game):\n",
    "    game = game.copy()\n",
    "    if seq is None:\n",
    "        return False\n",
    "    for i, j in seq:\n",
    "        for si, sj in [(0,0), (1,1), (1,-1), (-1,1), (-1,-1)]:\n",
    "            if 0 <= i + si < len(game) and 0 <= j + sj < len(game[0]):\n",
    "                game[i + si, j + sj] ^= 1\n",
    "    return all(all(cell == 0 for cell in row) for row in game)\n",
    "\n",
    "def test_all():\n",
    "    test_seq = chain((t for t in solvable_4x4 if not is_4x4_system_solvable(\n",
    "                      np.array(t['A']), np.array(t['b']))),\n",
    "                   (t for t in unsolvable_4x4 if is_4x4_system_solvable(\n",
    "                      np.array(t['A']), np.array(t['b']))))\n",
    "    test = next(test_seq, None)\n",
    "    if test is not None:\n",
    "        print('Первое задание не прошло тест:')\n",
    "        print('A =\\n', np.array(test['A']), '\\nb =', np.array(test['b']))\n",
    "    else:\n",
    "        print('Первое задание прошло все тесты')\n",
    "  \n",
    "    test_seq = chain((t for t in solvable_nxn if not is_nxn_system_solvable(\n",
    "                      np.array(t['A']), np.array(t['b']))),\n",
    "                   (t for t in unsolvable_nxn if is_nxn_system_solvable(\n",
    "                      np.array(t['A']), np.array(t['b']))))\n",
    "    test = next(test_seq, None)\n",
    "    if test is not None:\n",
    "        print('Второе задание не прошло тест:')\n",
    "        print('A =\\n', np.array(test['A']), '\\nb =', np.array(test['b']))\n",
    "    else:\n",
    "        print('Второе задание прошло все тесты')\n",
    "\n",
    "    test = next(chain((t for t in solvable_games \n",
    "                     if not is_game_solvable(np.array(t))),\n",
    "                    (t for t in unsolvable_games \n",
    "                     if is_game_solvable(np.array(t)))), None)\n",
    "    if test is not None:\n",
    "        print('Третье задание не прошло тест:')\n",
    "        print(np.array(test))\n",
    "    else:\n",
    "        print('Третье задание прошло все тесты')\n",
    "  \n",
    "    test = next(chain((t for t in solvable_games \n",
    "                     if not seq_solves_game(solve_game(np.array(t)), np.array(t))),\n",
    "                    (t for t in unsolvable_games \n",
    "                     if solve_game(np.array(t)) is not None)), None)  \n",
    "    if test is not None:\n",
    "        print('Четвёртое задание не прошло тест:')\n",
    "        print(np.array(test))\n",
    "    else:\n",
    "        print('Четвёртое задание прошло все тесты')"
   ]
  },
  {
   "cell_type": "code",
   "execution_count": 66,
   "metadata": {
    "colab": {
     "base_uri": "https://localhost:8080/",
     "height": 345
    },
    "colab_type": "code",
    "id": "Qoqx1T6HwJ8H",
    "outputId": "10cfef15-47b6-492e-da57-26b63a8f454a"
   },
   "outputs": [
    {
     "name": "stdout",
     "output_type": "stream",
     "text": [
      "Первое задание прошло все тесты\n",
      "Второе задание прошло все тесты\n",
      "Третье задание прошло все тесты\n",
      "Четвёртое задание прошло все тесты\n"
     ]
    }
   ],
   "source": [
    "test_all()"
   ]
  },
  {
   "cell_type": "code",
   "execution_count": null,
   "metadata": {},
   "outputs": [],
   "source": []
  }
 ],
 "metadata": {
  "colab": {
   "collapsed_sections": [],
   "name": "lightsout.ipynb",
   "provenance": []
  },
  "kernelspec": {
   "display_name": "Python 3 (ipykernel)",
   "language": "python",
   "name": "python3"
  },
  "language_info": {
   "codemirror_mode": {
    "name": "ipython",
    "version": 3
   },
   "file_extension": ".py",
   "mimetype": "text/x-python",
   "name": "python",
   "nbconvert_exporter": "python",
   "pygments_lexer": "ipython3",
   "version": "3.10.7"
  }
 },
 "nbformat": 4,
 "nbformat_minor": 1
}
