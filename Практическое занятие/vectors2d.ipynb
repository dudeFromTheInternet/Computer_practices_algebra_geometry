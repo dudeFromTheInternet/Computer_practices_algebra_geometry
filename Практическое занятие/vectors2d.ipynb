{
 "cells": [
  {
   "cell_type": "markdown",
   "metadata": {
    "colab_type": "text",
    "id": "MebRl_GUOFOE"
   },
   "source": [
    "# Векторы на плоскости\n",
    "\n",
    "Этот набор задач предназначен для прорешивания в аудитории. Вам предстоит работать с точками на плоскости и векторами. Векторы заданы своими координатами в некотором фиксированном правом ортонормированном базисе; вектор с координатами `x`, `y` задаётся как `v = np.array([x,y])`. Каждая точка задана соответствующим радиус-вектором. Над векторами можно выполнять следующие операции: умножать вектор на число `c*v` (здесь `c` — это число),  складывать векторы `v+u` (здесь `u` — это другой вектор), вычитать `v-u`, вычислять скалярное произведение `np.dot(u, v)` и обращаться к координатам `v[0]` и `v[1]`. Чтобы избежать ошибок, рекомендуем для запуска тестирования всегда использовать «Run All». *Подсказка:* при решении задачи вам могут пригодиться решения предыдущих задач."
   ]
  },
  {
   "cell_type": "markdown",
   "metadata": {
    "colab_type": "text",
    "id": "OFKPjnbEqxhN"
   },
   "source": [
    "**1. Точка на отрезке.**\n",
    "Допишите функцию, которая по числу $a \\in [0,1]$ возвращает радиус-вектор $\\vec{z}$ точки, которая расположена на отрезке с концами, заданными радиус-векторами $\\vec{x}$ и $\\vec{y}$, и для которой выполняется $|\\vec{z} - \\vec{x}| = a|\\vec{y} - \\vec{x}|$."
   ]
  },
  {
   "cell_type": "code",
   "execution_count": 9,
   "metadata": {
    "colab": {},
    "colab_type": "code",
    "id": "0Jvy1brwrJQH"
   },
   "outputs": [],
   "source": [
    "def segment_point(x, y, a):\n",
    "    '''Точка z на отрезке [x,y], такая что |x-z| = a|x-y|'''\n",
    "    \n",
    "    return (1-a)*x+a*y"
   ]
  },
  {
   "cell_type": "markdown",
   "metadata": {
    "colab_type": "text",
    "id": "LyjflRxKr0Dd"
   },
   "source": [
    "Проверьте, что ваше решение проходит тесты:"
   ]
  },
  {
   "cell_type": "code",
   "execution_count": 11,
   "metadata": {
    "colab": {
     "base_uri": "https://localhost:8080/",
     "height": 36
    },
    "colab_type": "code",
    "id": "3g8F2Hk1r1RM",
    "outputId": "3cd14f2c-a3b3-4f23-ba10-8e3bdb6e5089"
   },
   "outputs": [
    {
     "name": "stdout",
     "output_type": "stream",
     "text": [
      "Все тесты пройдены\n"
     ]
    }
   ],
   "source": [
    "import numpy as np\n",
    "z1 = segment_point(np.array([1,1]), np.array([2,2]), 0.5)\n",
    "z2 = segment_point(np.array([1,0]), np.array([2,3]), 2/3)\n",
    "if abs(z1[0] - 1.5) >= 1e-9 or abs(z1[1] - 1.5) >= 1e-9:\n",
    "    print('Тест 1 не пройден')\n",
    "elif abs(z2[0] - 5/3) >= 1e-9 or abs(z2[1] - 2) >= 1e-9:\n",
    "    print('Тест 2 не пройден')\n",
    "else:\n",
    "    print('Все тесты пройдены')"
   ]
  },
  {
   "cell_type": "markdown",
   "metadata": {
    "colab_type": "text",
    "id": "1amOqc3NVWg5"
   },
   "source": [
    "**2. Система уравнений 2×2.** Допишите функцию, решающую систему уравнений:\n",
    "$$\\left\\{\\begin{array}{l} a_1 x + b_1 y = c_1, \\\\ a_2 x + b_2 y = c_2.\\end{array}\\right.$$\n",
    "Гарантируется, что решение есть и при том единственное. В учебных целях просим не использовать готовые решения типа `np.linalg.solve`. Техническое напоминание: чтобы сравнить `x` с нулём, пишите `abs(x) < 1e-9`, а не `x == 0`. Обратите внимание, что `a1`, `a2`, `b1`, `b2` могут быть равны нулю!"
   ]
  },
  {
   "cell_type": "code",
   "execution_count": 12,
   "metadata": {
    "colab": {},
    "colab_type": "code",
    "id": "KTM97FqcRoVO"
   },
   "outputs": [],
   "source": [
    "def solve_system(a1, a2, b1, b2, c1, c2):\n",
    "    '''Решение системы a1*x + b1*y = c1, a2*x + b2*y = c2'''\n",
    "    delta = a1*b2-a2*b1\n",
    "    deltaX = c1*b2-c2*b1\n",
    "    deltaY = a1*c2-a2*c1\n",
    "    x = deltaX/delta\n",
    "    y = deltaY/delta\n",
    "    return np.array([x, y])"
   ]
  },
  {
   "cell_type": "markdown",
   "metadata": {
    "colab_type": "text",
    "id": "iIQtfhWZSN_9"
   },
   "source": [
    "Проверьте, что ваше решение проходит тесты:"
   ]
  },
  {
   "cell_type": "code",
   "execution_count": 13,
   "metadata": {
    "colab": {
     "base_uri": "https://localhost:8080/",
     "height": 36
    },
    "colab_type": "code",
    "id": "YIwpV751SQbM",
    "outputId": "1d7d194f-368d-4e5c-e534-f9f14ece9671"
   },
   "outputs": [
    {
     "name": "stdout",
     "output_type": "stream",
     "text": [
      "Все тесты пройдены\n"
     ]
    }
   ],
   "source": [
    "sol1 = solve_system(0, 1/3, 6, 2, 2, 9)\n",
    "sol2 = solve_system(2, 1, -1, 0.2, 0.5, 0.3)\n",
    "sol3 = solve_system(0, 5, 6, 0, 1, 1)\n",
    "if abs(sol1[0] - 25) >= 1e-9 or abs(sol1[1] - 1/3) >= 1e-9:\n",
    "    print('Тест 1 не пройден')\n",
    "elif abs(sol2[0] - 2/7) >= 1e-9 or abs(sol2[1] - 1/14) >= 1e-9:\n",
    "    print('Тест 2 не пройден')\n",
    "elif abs(sol3[0] - 1/5) >= 1e-9 or abs(sol3[1] - 1/6) >= 1e-9:\n",
    "    print('Тест 3 не пройден')\n",
    "else:\n",
    "    print('Все тесты пройдены')"
   ]
  },
  {
   "cell_type": "markdown",
   "metadata": {
    "colab_type": "text",
    "id": "u-z2GBOTckZm"
   },
   "source": [
    "**3. Смена базиса.** Допишите функцию, которая представляет данный вектор `w` в координатах нового базиса `x, y`. Например, при `w=[1,1]`, `x=[-1,0]` и `y=[0,2]` функция вернёт `v=[-1,0.5]`. Гарантируется, что векторы базиса, т.е. `x` и `y`, не коллинеарны."
   ]
  },
  {
   "cell_type": "code",
   "execution_count": 14,
   "metadata": {
    "colab": {},
    "colab_type": "code",
    "id": "bFfvRtutcy1g"
   },
   "outputs": [],
   "source": [
    "def change_basis(w, x, y):\n",
    "    '''Перевод вектора w в базис x, y'''\n",
    "    delta = x[0]*y[1] - x[1]*y[0]\n",
    "    deltaX = w[0]*y[1] - w[1]*y[0]\n",
    "    deltaY = x[0]*w[1] - x[1]*w[0]\n",
    "    v = np.array([deltaX/delta, deltaY/delta])\n",
    "    return v"
   ]
  },
  {
   "cell_type": "markdown",
   "metadata": {
    "colab_type": "text",
    "id": "mqQHZ9yuc2cb"
   },
   "source": [
    "Проверьте, что ваше решение проходит тесты:"
   ]
  },
  {
   "cell_type": "code",
   "execution_count": 15,
   "metadata": {
    "colab": {
     "base_uri": "https://localhost:8080/",
     "height": 36
    },
    "colab_type": "code",
    "id": "xK5FnHakc4Gl",
    "outputId": "8c4e570b-8960-40cb-fe61-b92ce00255ea"
   },
   "outputs": [
    {
     "name": "stdout",
     "output_type": "stream",
     "text": [
      "Все тесты пройдены\n"
     ]
    }
   ],
   "source": [
    "sol1 = change_basis(np.array([1,1]), np.array([-1,0]), np.array([0,2]))\n",
    "sol2 = change_basis(np.array([4.5,2.5]), np.array([1.5,2]), np.array([-1,1]))\n",
    "if abs(sol1[0] - -1) >= 1e-9 or abs(sol1[1] - 0.5) >= 1e-9:\n",
    "    print('Тест 1 не пройден')\n",
    "elif abs(sol2[0] - 2) >= 1e-9 or abs(sol2[1] - -1.5) >= 1e-9:\n",
    "    print('Тест 2 не пройден')\n",
    "else:\n",
    "    print('Все тесты пройдены')"
   ]
  },
  {
   "cell_type": "markdown",
   "metadata": {
    "colab_type": "text",
    "id": "lbZCzXIHRd9x"
   },
   "source": [
    "**4. Искривлённое изображение.**\n",
    "Допишите следующую функцию. На вход вам дано изображение `image` размера `w`  на `h` и четыре точки (радиус-векторы) `p0`, `p1`, `p2` и `x`. Каждый пиксель изображения (`image[i,j]`, где `0<=i<w` и `0<=j<h`) — это число от 0 до 255, задающее градацию серого от чёрного до белого. Изображение `image`  «натянуто» на  параллелограмм с вершинами `p0`, `p1`, `p2`, как на рисунке (четвёртая вершина параллелограмма, `p3 = p0 + (p1-p0) + (p2-p0)`, не изображена, но подразумевается):\n",
    "\n",
    "![Натянутое image](https://imgur.com/B4Wj7Hz.png)\n",
    "\n",
    "Считайте, что левый и правый нижние пиксели изображения расположены, соответственно, в `image[0,0]` и `image[w-1,0]`. Верните 0, если точка `x` не лежит в этом параллелограмме, и верните соответствующий пиксель  изображения `image` в противном случае. Если `x` лежит на границе двух и более «растянутых пикселей», то верните цвет любого из них."
   ]
  },
  {
   "cell_type": "code",
   "execution_count": 20,
   "metadata": {
    "colab": {},
    "colab_type": "code",
    "id": "cLp1cyuCOg0h"
   },
   "outputs": [],
   "source": [
    "def get_pixel(p0, p1, p2, x, image):\n",
    "    '''Пиксель, соответствующий x в изображении, натянутом на p0,p1,p2,p3'''\n",
    "    w = image.shape[0]\n",
    "    h = image.shape[1]\n",
    "    z = change_basis((x-p0), (p1-p0), (p2-p0))\n",
    "    \n",
    "    if 0 <= z[0] < 1 and 0 <= z[1] < 1:\n",
    "        return image[int(z[0]*w), int(z[1]*h)]\n",
    "    else:\n",
    "        return 0\n"
   ]
  },
  {
   "cell_type": "markdown",
   "metadata": {
    "colab_type": "text",
    "id": "VykHYjleRUx_"
   },
   "source": [
    "Проверьте, что ваше решение генерирует искривлённую картинку:"
   ]
  },
  {
   "cell_type": "code",
   "execution_count": 21,
   "metadata": {
    "colab": {
     "base_uri": "https://localhost:8080/",
     "height": 238
    },
    "colab_type": "code",
    "id": "JTQMVSJbOu8v",
    "outputId": "3c1c930b-0ce7-4934-a4e2-e332b26df471",
    "scrolled": true
   },
   "outputs": [
    {
     "data": {
      "text/plain": [
       "<matplotlib.image.AxesImage at 0x20efdcf3fd0>"
      ]
     },
     "execution_count": 21,
     "metadata": {},
     "output_type": "execute_result"
    },
    {
     "data": {
      "image/png": "[encoded data removed]",
      "text/plain": [
       "<Figure size 640x480 with 1 Axes>"
      ]
     },
     "metadata": {},
     "output_type": "display_data"
    }
   ],
   "source": [
    "try:\n",
    "    import matplotlib.pyplot as plt, imageio\n",
    "except ImportError:\n",
    "    !pip3 install imageio matplotlib\n",
    "    import matplotlib.pyplot as plt, imageio\n",
    "\n",
    "img = imageio.v2.imread('https://imgur.com/CHPOlZD.png').T\n",
    "p0 = np.array([25,10])\n",
    "p1 = np.array([170,25])\n",
    "p2 = np.array([10,80])\n",
    "scene = np.zeros([200, 100])\n",
    "for x in range(scene.shape[0]):\n",
    "    for y in range(scene.shape[1]):\n",
    "        scene[x,y] = get_pixel(p0, p1, p2, np.array([x,y]), img)\n",
    "plt.imshow(scene.T, cmap='gray')"
   ]
  },
  {
   "cell_type": "markdown",
   "metadata": {
    "colab_type": "text",
    "id": "8v1SJclaiHit"
   },
   "source": [
    "**5. Поворот на 90 градусов.**\n",
    "Допишите функцию, которая поворачивает вектор на 90 градусов против часовой стрелки (напомним, что векторы заданы своими координатами в правом ортонормированном базисе и, значит, вектор с координатами $\\left(\\begin{array}{c}1\\\\0\\end{array}\\right)$ при повороте отображается в $\\left(\\begin{array}{c}0\\\\1\\end{array}\\right)$)."
   ]
  },
  {
   "cell_type": "code",
   "execution_count": 7,
   "metadata": {
    "colab": {},
    "colab_type": "code",
    "id": "PhMl0FgriP5q"
   },
   "outputs": [],
   "source": [
    "def rotate90(x):\n",
    "    '''Повернуть x на 90 градусов против часовой стрелки'''\n",
    "    # здесь мог бы быть ваш код\n",
    "    return np.array([0.0, 0.0])"
   ]
  },
  {
   "cell_type": "markdown",
   "metadata": {
    "colab_type": "text",
    "id": "6YaK7yaoiQ7e"
   },
   "source": [
    "Проверьте, что ваше решение проходит тесты:"
   ]
  },
  {
   "cell_type": "code",
   "execution_count": 8,
   "metadata": {
    "colab": {
     "base_uri": "https://localhost:8080/",
     "height": 36
    },
    "colab_type": "code",
    "id": "UJWk-_MViUWP",
    "outputId": "8b993150-65c2-4343-f031-03debae9e0a6"
   },
   "outputs": [
    {
     "name": "stdout",
     "output_type": "stream",
     "text": [
      "Тест 1 не пройден\n"
     ]
    }
   ],
   "source": [
    "y1 = rotate90(np.array([0,1]))\n",
    "y2 = rotate90(np.array([1,0]))\n",
    "y3 = rotate90(np.array([1,1]))\n",
    "if abs(y1[0] - -1) >= 1e-9 or abs(y1[1]) >= 1e-9:\n",
    "    print('Тест 1 не пройден')\n",
    "elif abs(y2[0]) >= 1e-9 or abs(y2[1] - 1) >= 1e-9:\n",
    "    print('Тест 2 не пройден')\n",
    "elif abs(y3[0] - -1) >= 1e-9 or abs(y3[1] - 1) >= 1e-9:\n",
    "    print('Тест 3 не пройден')\n",
    "else:\n",
    "    print('Все тесты пройдены')"
   ]
  },
  {
   "cell_type": "markdown",
   "metadata": {
    "colab_type": "text",
    "id": "Xyy4Ctigjk71"
   },
   "source": [
    "**6. Полуплоскости.**\n",
    "Вам дан отрезок, концы которого заданы радиус-векторами $\\vec{x}$ и $\\vec{y}$ ($\\vec{x} \\ne \\vec{y}$). Прямая, проходящая через этот отрезок, разбивает плоскость на две полуплоскости: левую, если стоять в точке $\\vec{x}$ и смотреть в направлении $\\vec{y} - \\vec{x}$, и правую соответственно. Допишите функцию, которая возвращает -1, если данная точка, заданная радиус-вектором $\\vec{z}$, лежит в левой полуплоскости, возвращает 1, если лежит в правой полуплоскости, и 0, если лежит на прямой, проходящей через отрезок. Напоминаем, что все векторы заданы своими координатами в правом ортонормированном базисе."
   ]
  },
  {
   "cell_type": "code",
   "execution_count": 9,
   "metadata": {
    "colab": {},
    "colab_type": "code",
    "id": "AENRxPiXjmVA"
   },
   "outputs": [],
   "source": [
    "def halfplane(x, y, z):\n",
    "    '''-1/1, если z лежит в левой/правой полуплоскости от [x,0], или 0'''\n",
    "    # здесь мог бы быть ваш код\n",
    "    return 0"
   ]
  },
  {
   "cell_type": "markdown",
   "metadata": {
    "colab_type": "text",
    "id": "Pu5Jl15ljozJ"
   },
   "source": [
    "Проверьте, что ваше решение проходит тесты:"
   ]
  },
  {
   "cell_type": "code",
   "execution_count": 10,
   "metadata": {
    "colab": {
     "base_uri": "https://localhost:8080/",
     "height": 36
    },
    "colab_type": "code",
    "id": "Wn9fL5P1jsJi",
    "outputId": "e854afe9-e802-4bd0-d097-771ec1e4692a"
   },
   "outputs": [
    {
     "name": "stdout",
     "output_type": "stream",
     "text": [
      "Тест 2 не пройден\n"
     ]
    }
   ],
   "source": [
    "if halfplane(np.array([0,0]), np.array([1,2]), np.array([-0.5,-1])) != 0:\n",
    "    print('Тест 1 не пройден')\n",
    "elif halfplane(np.array([0,0]), np.array([8,1]), np.array([-5,0])) != -1:\n",
    "    print('Тест 2 не пройден')\n",
    "elif halfplane(np.array([1,1]), np.array([0,0]), np.array([-4,-3])) != 1:\n",
    "    print('Тест 3 не пройден')\n",
    "else:\n",
    "    print('Все тесты пройдены')"
   ]
  },
  {
   "cell_type": "markdown",
   "metadata": {
    "colab_type": "text",
    "id": "DEskYhtmj15V"
   },
   "source": [
    "**7. В треугольнике.** Допишите функцию, которая по трём точкам `a`, `b`, `c` и точке `x` проверяет, лежит ли `x` в треугольнике с вершинами `a`, `b`, `c`. Все точки заданы радиус-векторами."
   ]
  },
  {
   "cell_type": "code",
   "execution_count": 11,
   "metadata": {
    "colab": {},
    "colab_type": "code",
    "id": "c3UtnfjWj5Tp"
   },
   "outputs": [],
   "source": [
    "def in_triangle(x, a, b, c):\n",
    "    '''Вернуть True, если x лежит в треугольнике abc, и False, если нет'''\n",
    "    # здесь мог бы быть ваш код\n",
    "    return False"
   ]
  },
  {
   "cell_type": "markdown",
   "metadata": {
    "colab_type": "text",
    "id": "TQ5RZiygj6lN"
   },
   "source": [
    "Проверьте, что ваше решение проходит тесты:"
   ]
  },
  {
   "cell_type": "code",
   "execution_count": 12,
   "metadata": {
    "colab": {
     "base_uri": "https://localhost:8080/",
     "height": 36
    },
    "colab_type": "code",
    "id": "KNP2yVNhj7EU",
    "outputId": "a92549ff-9a4d-41a3-e5e5-a7a96c260d1d"
   },
   "outputs": [
    {
     "name": "stdout",
     "output_type": "stream",
     "text": [
      "Тест 1 не пройден\n"
     ]
    }
   ],
   "source": [
    "if not in_triangle(np.array([0,0.5]), np.array([-1,-1]), np.array([0,2]), np.array([1,-0.5])):\n",
    "    print('Тест 1 не пройден')\n",
    "elif in_triangle(np.array([1.5,0.5]), np.array([1,2]), np.array([3,3]), np.array([2,0])):\n",
    "    print('Тест 2 не пройден')\n",
    "else:\n",
    "    print('Все тесты пройдены')"
   ]
  }
 ],
 "metadata": {
  "colab": {
   "collapsed_sections": [],
   "name": "vectors2d.ipynb",
   "provenance": []
  },
  "kernelspec": {
   "display_name": "Python 3 (ipykernel)",
   "language": "python",
   "name": "python3"
  },
  "language_info": {
   "codemirror_mode": {
    "name": "ipython",
    "version": 3
   },
   "file_extension": ".py",
   "mimetype": "text/x-python",
   "name": "python",
   "nbconvert_exporter": "python",
   "pygments_lexer": "ipython3",
   "version": "3.10.7"
  }
 },
 "nbformat": 4,
 "nbformat_minor": 1
}
